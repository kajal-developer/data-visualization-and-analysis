#!/usr/bin/env python
# coding: utf-8

# In[11]:


import numpy as np


# In[21]:


a=np.array([1,2,3])
print(a)
print(a.shape)
print(a[0],a[1],a[2])
a[2]=5
print(a)

b=np.array([[1,2],[2,3]])
print(b)
print(b.shape)
print(b[0,0])


# In[29]:


a=np.ones((2,3))
print(a)
b=np.zeros((2,2))
print(b)
c=np.full((2,2),7)
print(c)
d=np.random.random((3,3))
print(d)


# In[37]:


a=np.array([[1,2,3,4],[2,3,4,4],[9,7,8,6]])
print(a)
b=a[1:3,2:4]
print(b)
b=a[:2,2:4]
print(b)
print(a>8)
print(a[a>8])


# In[52]:


x=np.array([[2,3],[4,6]])
y=np.array([[5,3],[8,7]])
print(x+y)
#use numpy for this
print(np.add(x,y))
print(x-y)
print(np.subtract(x,y))
print(x*y)
print(x/y)
print(np.multiply(x,y)) 
print(np.divide(x,y))
print(np.sum(x))

print(np.sum(x,axis=0))#for column sum
print(np.sum(x,axis=1))#for rows


# In[ ]:




